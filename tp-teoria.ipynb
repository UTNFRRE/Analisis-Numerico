{
 "cells": [
  {
   "cell_type": "markdown",
   "metadata": {},
   "source": [
    "Parte 1: Introducción a las Librerías "
   ]
  },
  {
   "cell_type": "markdown",
   "metadata": {},
   "source": [
    "  Investiga la librería NumPy y explica cómo se realizan las siguientes operaciones con matrices:  \n",
    "Multiplicación de matrices, Cálculo de la inversa de una matriz, Cálculo de valores propios y \n",
    "vectores propios de una matriz. Proporciona ejemplos de código en Python utilizando NumPy."
   ]
  },
  {
   "cell_type": "markdown",
   "metadata": {},
   "source": [
    "Para multiplicar dos matrices en NumPy, usamos la función np.dot() o el operador @. La multiplicación de matrices es posible si el número de columnas de la primera matriz coincide con el número de filas de la segunda."
   ]
  },
  {
   "cell_type": "code",
   "execution_count": 3,
   "metadata": {},
   "outputs": [
    {
     "name": "stdout",
     "output_type": "stream",
     "text": [
      "El número de columnas de la primera matriz debe ser igual al número de filas de la segunda matriz\n",
      "Matriz G (E * F):\n",
      "[[ 66  72  78]\n",
      " [156 171 186]]\n"
     ]
    }
   ],
   "source": [
    "import numpy as np\n",
    "\n",
    "# Definicion de ambas matrices\n",
    "A = np.array([[1, 2, 3], [4, 5, 6]])\n",
    "B = np.array([[7, 8, 9], [10, 11, 12]])\n",
    "E = np.array([[1, 2, 3], [4, 5, 6]])\n",
    "F = np.array([[7, 8, 9], [10, 11, 12], [13, 14, 15]])\n",
    "\n",
    "# Verificación de dimensiones\n",
    "if A.shape[1] != B.shape[0]:\n",
    "    print(\"El número de columnas de la primera matriz debe ser igual al número de filas de la segunda matriz\")\n",
    "else:\n",
    "    # Multiplicación de matrices\n",
    "    C = np.dot(A, B)\n",
    "\n",
    "    # Alternativamente, podemos usar A @ B para la multiplicación de matrices\n",
    "    D = A @ B\n",
    "\n",
    "    print(\"Matriz C (A * B):\")\n",
    "    print(C)\n",
    "\n",
    "# Verificación de dimensiones\n",
    "if E.shape[1] != F.shape[0]:\n",
    "    print(\"El número de columnas de la primera matriz debe ser igual al número de filas de la segunda matriz\")\n",
    "else:\n",
    "    # Multiplicación de matrices\n",
    "\n",
    "    G = np.dot(E, F)\n",
    "\n",
    "    print(\"Matriz G (E * F):\")\n",
    "    print(G)\n"
   ]
  },
  {
   "cell_type": "markdown",
   "metadata": {},
   "source": [
    "Para calcular la inversa de una matriz cuadrada (matriz con el mismo número de filas y columnas), usamos np.linalg.inv(). Solo las matrices cuadradas no singulares (determinante distinto de cero) tienen inversa."
   ]
  },
  {
   "cell_type": "code",
   "execution_count": 6,
   "metadata": {},
   "outputs": [
    {
     "name": "stdout",
     "output_type": "stream",
     "text": [
      "Inversa de A:\n",
      "[[-2.   1. ]\n",
      " [ 1.5 -0.5]]\n",
      "La matriz no tiene inversa porque es singular.\n"
     ]
    }
   ],
   "source": [
    "# Definimos una matriz cuadrada\n",
    "A = np.array([[1, 2], [3, 4]])\n",
    "\n",
    "# Calculamos la inversa\n",
    "try:\n",
    "    A_inv = np.linalg.inv(A)\n",
    "    print(\"Inversa de A:\")\n",
    "    print(A_inv)\n",
    "except np.linalg.LinAlgError:\n",
    "    print(\"La matriz no es invertible\")\n",
    "\n",
    "# Definimos una matriz singular\n",
    "B = np.array([[2, 4], [2, 4]])\n",
    "\n",
    "# Intentamos calcular la inversa\n",
    "try:\n",
    "    B_inv = np.linalg.inv(B)\n",
    "    print(\"Inversa de B:\")\n",
    "    print(B_inv)\n",
    "except np.linalg.LinAlgError:\n",
    "    print(\"La matriz no tiene inversa porque es singular. Su determinante es 0.\")"
   ]
  },
  {
   "cell_type": "markdown",
   "metadata": {},
   "source": [
    "NumPy permite calcular los valores propios y vectores propios de una matriz cuadrada mediante la función np.linalg.eig(). Esta función retorna dos valores: un array con los valores propios y una matriz donde cada columna representa un vector propio."
   ]
  },
  {
   "cell_type": "code",
   "execution_count": 7,
   "metadata": {},
   "outputs": [
    {
     "name": "stdout",
     "output_type": "stream",
     "text": [
      "Valores propios de A:\n",
      "[-0.23606798  4.23606798]\n",
      "Vectores propios de A:\n",
      "[[-0.85065081 -0.52573111]\n",
      " [ 0.52573111 -0.85065081]]\n"
     ]
    }
   ],
   "source": [
    "# Definimos una matriz cuadrada\n",
    "A = np.array([[1, 2], [2, 3]])\n",
    "\n",
    "# Calculamos valores y vectores propios\n",
    "eigenvalues, eigenvectors = np.linalg.eig(A)\n",
    "\n",
    "print(\"Autovalores de A:\")\n",
    "print(eigenvalues)\n",
    "print(\"Autovectores de A:\")\n",
    "print(eigenvectors)\n"
   ]
  },
  {
   "cell_type": "markdown",
   "metadata": {},
   "source": [
    "¿Cómo  utilizarías  NumPy  para  resolver  un  sistema  de  ecuaciones  lineales  utilizando  matrices    \n",
    "Explica el proceso y proporciona un ejemplo en código?"
   ]
  },
  {
   "cell_type": "markdown",
   "metadata": {},
   "source": [
    "Para resolver un sistema de ecuaciones lineales con NumPy, podemos usar el enfoque de matrices. Dado un sistema de ecuaciones de la forma:\n",
    "\n",
    "A⋅X=B\n",
    "\n",
    "donde:\n",
    "𝐴 es la matriz de coeficientes,\n",
    "𝑋 es el vector de incógnitas,\n",
    "𝐵 es el vector de términos independientes,\n",
    "podemos resolver el sistema utilizando la función np.linalg.solve(A, B), que encuentra 𝑋 aplicando álgebra lineal.\n",
    " \n",
    "Proceso:\n",
    "Definir la matriz de coeficientes (𝐴) y el vector de términos independientes (𝐵).\n",
    "Utilizar np.linalg.solve(A, B) para obtener el vector solución (𝑋)."
   ]
  },
  {
   "cell_type": "markdown",
   "metadata": {},
   "source": [
    "Supongamos el siguiente sistema de ecuaciones:\n",
    "El sistema de ecuaciones lineales se puede escribir como:\n",
    " \n",
    "\\begin{cases} \n",
    "3x + 4y + 2z = 7 \\\\ \n",
    "2x - y + 3z = 4 \\\\ \n",
    "x + 2y - z = -1 \n",
    "\\end{cases} \n",
    "\n",
    "\n",
    "Este sistema se puede escribir en forma matricial como:\n",
    "\n",
    "\n",
    "\\begin{bmatrix} \n",
    "3 & 4 & 2 \\\\ \n",
    "2 & -1 & 3 \\\\ \n",
    "1 & 2 & -1 \n",
    "\\end{bmatrix} \n",
    "\n",
    "\\begin{bmatrix} \n",
    "x \\\\ \n",
    "y \\\\ \n",
    "z \n",
    "\\end{bmatrix} \n",
    "= \n",
    "\\begin{bmatrix} \n",
    "7 \\\\ \n",
    "4 \\\\ \n",
    "-1 \n",
    "\\end{bmatrix} \n",
    "\n",
    "\n",
    "Donde:\n",
    "\n",
    "\n",
    "A = \n",
    "\\begin{bmatrix} \n",
    "3 & 4 & 2 \\\\ \n",
    "2 & -1 & 3 \\\\ \n",
    "1 & 2 & -1 \n",
    "\\end{bmatrix} \n",
    "\n",
    " \n",
    "B = \n",
    "\\begin{bmatrix} \n",
    "7 \\\\ \n",
    "4 \\\\ \n",
    "-1 \n",
    "\\end{bmatrix} \n"
   ]
  },
  {
   "cell_type": "code",
   "execution_count": 8,
   "metadata": {},
   "outputs": [
    {
     "name": "stdout",
     "output_type": "stream",
     "text": [
      "Solución del sistema:\n",
      "x = -1.1333333333333337\n",
      "y = 1.3333333333333335\n",
      "z = 2.5333333333333337\n"
     ]
    }
   ],
   "source": [
    "import numpy as np\n",
    "\n",
    "# Matriz de coeficientes\n",
    "A = np.array([[3, 4, 2], [2, -1, 3], [1, 2, -1]])\n",
    "\n",
    "# Vector de términos independientes\n",
    "B = np.array([7, 4, -1])\n",
    "\n",
    "# Resolver el sistema de ecuaciones\n",
    "X = np.linalg.solve(A, B)\n",
    "\n",
    "print(\"Solución del sistema:\")\n",
    "print(\"x =\", X[0])\n",
    "print(\"y =\", X[1])\n",
    "print(\"z =\", X[2])\n"
   ]
  },
  {
   "cell_type": "markdown",
   "metadata": {},
   "source": [
    "¿Qué es SymPy y en qué áreas del cálculo diferencial se utiliza? Investiga cómo esta librería\n",
    "facilita la resolución simbólica de ecuaciones diferenciales y qué ventajas tiene sobre métodos\n",
    "puramente numéricos"
   ]
  },
  {
   "cell_type": "markdown",
   "metadata": {},
   "source": [
    "\n",
    "**SymPy** es una biblioteca de Python para realizar cálculos simbólicos. A diferencia de otras bibliotecas numéricas (como NumPy, que trabaja principalmente con números y arreglos), SymPy permite manipular expresiones matemáticas de manera simbólica. Esto significa que puedes trabajar con ecuaciones, integrales, derivadas y otros elementos matemáticos en su forma algebraica y obtener soluciones exactas.\n",
    "\n",
    "**Áreas del cálculo diferencial en las que se utiliza SymPy**\n",
    "\n",
    "SymPy es especialmente útil en varias áreas del cálculo diferencial, tales como:\n",
    "\n",
    "Derivación simbólica: Permite calcular derivadas de funciones de manera exacta.\n",
    "\n",
    "Integración: Realiza integrales tanto definidas como indefinidas.\n",
    "\n",
    "Series de Taylor y Fourier: Genera expansiones en series de funciones.\n",
    "\n",
    "Solución de ecuaciones diferenciales: Resuelve ecuaciones diferenciales ordinarias (EDO) y ecuaciones diferenciales parciales (EDP) de forma simbólica.\n",
    "\n",
    "\n",
    "**SymPy** ofrece una función llamada $$dsolve$$ para resolver ecuaciones diferenciales de forma simbólica. Esta función permite encontrar soluciones exactas para muchos tipos de ecuaciones diferenciales ordinarias, evitando las aproximaciones numéricas."
   ]
  },
  {
   "cell_type": "markdown",
   "metadata": {},
   "source": [
    "Consideremos la ecuación diferencial:\n",
    "\n",
    "$$\n",
    "𝑦\n",
    "′\n",
    "+\n",
    "𝑦\n",
    "=\n",
    "𝑒^𝑥\n",
    "\n",
    "$$"
   ]
  },
  {
   "cell_type": "code",
   "execution_count": 11,
   "metadata": {},
   "outputs": [
    {
     "name": "stdout",
     "output_type": "stream",
     "text": [
      "Solución de la ecuación diferencial:\n",
      "                 x\n",
      "           -x   ℯ \n",
      "y(x) = C₁⋅ℯ   + ──\n",
      "                2 \n"
     ]
    }
   ],
   "source": [
    "import sympy as sp\n",
    "\n",
    "# Definir la variable independiente y la función\n",
    "x = sp.symbols('x')\n",
    "y = sp.Function('y')\n",
    "\n",
    "# Definir la ecuación diferencial\n",
    "edo = sp.Eq(y(x).diff(x) + y(x), sp.exp(x))\n",
    "\n",
    "# Resolver la ecuación diferencial\n",
    "solucion = sp.dsolve(edo, y(x))\n",
    "print(\"Solución de la ecuación diferencial:\")\n",
    "sp.pprint(solucion)\n"
   ]
  }
 ],
 "metadata": {
  "kernelspec": {
   "display_name": "Python 3",
   "language": "python",
   "name": "python3"
  },
  "language_info": {
   "codemirror_mode": {
    "name": "ipython",
    "version": 3
   },
   "file_extension": ".py",
   "mimetype": "text/x-python",
   "name": "python",
   "nbconvert_exporter": "python",
   "pygments_lexer": "ipython3",
   "version": "3.11.9"
  }
 },
 "nbformat": 4,
 "nbformat_minor": 2
}
